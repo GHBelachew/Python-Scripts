{
 "cells": [
  {
   "cell_type": "code",
   "execution_count": 1,
   "metadata": {},
   "outputs": [],
   "source": [
    "import pandas as pd\n",
    "import numpy as np\n",
    "from datetime import datetime\n",
    "from scipy import stats\n",
    "import re ###?\n",
    "import time\n",
    "import xlsxwriter\n",
    "import csv\n",
    "import calendar"
   ]
  },
  {
   "cell_type": "code",
   "execution_count": 2,
   "metadata": {},
   "outputs": [
    {
     "name": "stdout",
     "output_type": "stream",
     "text": [
      "29.35483479499817\n"
     ]
    }
   ],
   "source": [
    "start = time.time()\n",
    "\n",
    "#define file paths\n",
    "#all traffic \n",
    "identification_tp = 'L:\\\\Interns2018\\\\Ysteinberg\\\\NPMRDS\\\\Data\\\\15min_data\\\\Truck&Passenger\\\\TMC_Identification.csv'\n",
    "data_15_tp = 'L:\\\\Interns2018\\\\Ysteinberg\\\\NPMRDS\\\\Data\\\\15min_data\\\\Truck&Passenger\\\\2017-02-SPC-Region-TMCs_Multiple-Files-15min.csv'\n",
    "#truck\n",
    "identification_t = 'L:\\\\Interns2018\\\\Ysteinberg\\\\NPMRDS\\\\Data\\\\15min_data\\\\Truck\\\\TMC_Identification.csv'\n",
    "data_15_t = 'L:\\\\Interns2018\\\\Ysteinberg\\\\NPMRDS\\\\Data\\\\15min_data\\\\Truck\\\\2017-02-SPC-Region-TMCs_Multiple-Files-15min.csv'\n",
    "\n",
    "#read data files\n",
    "identification_tp = pd.read_csv(identification_tp) #identification truck&passenger\n",
    "data_15_tp = pd.read_csv(data_15_tp) #travel_time truck&passenger(all traffic)\n",
    "\n",
    "identification_t = pd.read_csv(identification_t) #identification truck\n",
    "data_15_t = pd.read_csv(data_15_t) #travel_time truck\n",
    "\n",
    "#change column name in travel_time dataframe from tmc_code to tmc \n",
    "data_15_tp = data_15_tp.rename(columns = {'tmc_code': 'tmc'})\n",
    "data_15_t = data_15_t.rename(columns = {'tmc_code': 'tmc'})\n",
    "\n",
    "end = time.time()\n",
    "print(end-start)"
   ]
  },
  {
   "cell_type": "code",
   "execution_count": 3,
   "metadata": {},
   "outputs": [],
   "source": [
    "#define constant number variables\n",
    "year = 2017\n",
    "month = 2\n",
    "directional_factor = 0.5\n",
    "occupancy_factor = 1.7\n",
    "\n",
    "interpolation = 'nearest'\n",
    "\n",
    "#get number of days in certain month\n",
    "days_month = calendar.monthrange(year,month)[1]\n",
    "\n",
    "#to do: if Feb==28 --> 365, elif Feb==29 --> 366\n",
    "days_year =365 \n",
    "\n",
    "df1 = identification_tp\n",
    "df2 = data_15_tp"
   ]
  },
  {
   "cell_type": "code",
   "execution_count": 4,
   "metadata": {},
   "outputs": [],
   "source": [
    "#generate a dataframe contains data and time columns by splitting the 'measurement_tstamp' column\n",
    "df_date_time = pd.DataFrame({\n",
    "        'date': pd.to_datetime(df2['measurement_tstamp']).dt.date,\n",
    "        'time': pd.to_datetime(df2['measurement_tstamp']).dt.time\n",
    "    })\n",
    "\n",
    "#concat dataframes of df_date_time(contains date and time columns) and df2(travel_time df) \n",
    "df22 = pd.concat([df2, df_date_time], axis=1)\n",
    "\n",
    "#create weekday column based on 'date' column \n",
    "#In Python, lambda is just a way of defining functions inline\n",
    "#for more info about lambda, please check https://www.w3schools.com/python/python_lambda.asp\n",
    "df22['weekday'] = df22['date'].apply(lambda x: x.isoweekday())\n",
    "\n",
    "#convert time column type from datetime to string as '>=' doesn't work on datetime\n",
    "df22['time'] = df22['time'].astype(str)"
   ]
  },
  {
   "cell_type": "code",
   "execution_count": 7,
   "metadata": {},
   "outputs": [],
   "source": [
    "columns = ['tmc', 'travel_time_seconds', 'date', 'time', 'weekday']\n",
    "\n",
    "#travel_time df left join identification df on tmc\n",
    "df_join = pd.merge(df22, df1, on='tmc', how='left')\n",
    "\n",
    "#select interstate reporting segment data\n",
    "df_inter = df_join[(df_join['f_system']==1) & (df_join['faciltype'].isin([1,2,6])) & (df_join['nhs'].isin(range(1,10))) & (df_join['urban_code']>0)]\n",
    "#select non-interstate reporting segment data as LOTTR for all_traffic requires both inter and noninter state data\n",
    "df_noninter = df_join[(df_join['f_system'].isin(range(2,8))) & (df_join['faciltype'].isin([1,2,6])) & (df_join['nhs'].isin(range(1,10)))& (df_join['urban_code']>0)]\n",
    "\n",
    "#select columns for future use into dff\n",
    "dff_inter = df_inter[columns]\n",
    "dff_noninter = df_noninter[columns]"
   ]
  },
  {
   "cell_type": "code",
   "execution_count": 5,
   "metadata": {},
   "outputs": [],
   "source": [
    "#define a function for LOTTR calculation\n",
    "def LOTTR_cal(x):\n",
    "#     percen_80 = stats.scoreatpercentile(x.tolist(),80) #use scipy library\n",
    "#     percen_50 = stats.scoreatpercentile(x.tolist(),50)\n",
    "    percen_80 = np.nanpercentile(x.tolist(), 80, interpolation = interpolation) #use numpy library\n",
    "    percen_50 = np.nanpercentile(x.tolist(), 50, interpolation = interpolation)\n",
    "    return percen_80/percen_50"
   ]
  },
  {
   "cell_type": "code",
   "execution_count": null,
   "metadata": {},
   "outputs": [],
   "source": [
    "#LOTTR\n",
    "dff = dff_noninter\n",
    "d = {}\n",
    "\n",
    "dff_weekday = dff[dff['weekday'].isin(range(1,6))] #monday to Friday 1-5\n",
    "dff_weekend = dff[dff['weekday'].isin(range(6,8))] #Saturday to Sunday 6-7\n",
    "\n",
    "d['LOTTR_AMP'] = dff_weekday[(dff_weekday['time']>='06:00:00') & (dff_weekday['time'] < '10:00:00')] #6am-10am-weekdays\n",
    "d['LOTTR_MIDD'] = dff_weekday[(dff_weekday['time']>='10:00:00') & (dff_weekday['time'] < '16:00:00')] #10am-4pm-weekdays\n",
    "d['LOTTR_PMP'] = dff_weekday[(dff_weekday['time']>='16:00:00') & (dff_weekday['time'] < '20:00:00')] #4pm-8pm-weekdays\n",
    "d['LOTTR_WE'] = dff_weekend[(dff_weekend['time']>='06:00:00') & (dff_weekend['time'] < '20:00:00')] #6am-8pm-weekend\n",
    "\n",
    "d['LOTTR_AMP'] =  LOTTR_cal(d['LOTTR_AMP']['travel_time_seconds'])\n",
    "d['LOTTR_MIDD'] = LOTTR_cal(d['LOTTR_MIDD']['travel_time_seconds'])\n",
    "d['LOTTR_PMP'] = LOTTR_cal(d['LOTTR_PMP']['travel_time_seconds'])\n",
    "d['LOTTR_WE'] = LOTTR_cal(d['LOTTR_WE']['travel_time_seconds'])"
   ]
  },
  {
   "cell_type": "code",
   "execution_count": 10,
   "metadata": {},
   "outputs": [
    {
     "data": {
      "text/plain": [
       "{'LOTTR_AMP': 2.869277885235332,\n",
       " 'LOTTR_MIDD': 2.893375897845172,\n",
       " 'LOTTR_PMP': 2.887057010785824,\n",
       " 'LOTTR_WE': 2.8830419283653033}"
      ]
     },
     "execution_count": 10,
     "metadata": {},
     "output_type": "execute_result"
    }
   ],
   "source": [
    "d"
   ]
  }
 ],
 "metadata": {
  "kernelspec": {
   "display_name": "Python 3",
   "language": "python",
   "name": "python3"
  },
  "language_info": {
   "codemirror_mode": {
    "name": "ipython",
    "version": 3
   },
   "file_extension": ".py",
   "mimetype": "text/x-python",
   "name": "python",
   "nbconvert_exporter": "python",
   "pygments_lexer": "ipython3",
   "version": "3.6.7"
  }
 },
 "nbformat": 4,
 "nbformat_minor": 2
}
